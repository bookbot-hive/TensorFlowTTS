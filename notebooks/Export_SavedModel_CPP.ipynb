{
 "cells": [
  {
   "cell_type": "code",
   "execution_count": 4,
   "metadata": {},
   "outputs": [],
   "source": [
    "import tensorflow as tf\n",
    "from tensorflow_tts.inference import TFAutoModel, AutoConfig"
   ]
  },
  {
   "cell_type": "code",
   "execution_count": 13,
   "metadata": {},
   "outputs": [],
   "source": [
    "def export_savedmodel(model_path: str, save_path: str, use_auth_token: bool = True):\n",
    "    # load pretrained model\n",
    "    model = TFAutoModel.from_pretrained(model_path, use_auth_token=use_auth_token)\n",
    "    # export as SavedModel\n",
    "    tf.saved_model.save(model, save_path, signatures=model.inference)\n",
    "    return save_path"
   ]
  },
  {
   "cell_type": "code",
   "execution_count": 14,
   "metadata": {},
   "outputs": [
    {
     "name": "stderr",
     "output_type": "stream",
     "text": [
      "/opt/miniconda3/envs/tensorflow/lib/python3.8/site-packages/huggingface_hub/file_download.py:594: FutureWarning: `cached_download` is the legacy way to download files from the HF hub, please consider upgrading to `hf_hub_download`\n",
      "  warnings.warn(\n"
     ]
    },
    {
     "name": "stdout",
     "output_type": "stream",
     "text": [
      "WARNING:tensorflow:Skipping full serialization of Keras layer <keras.layers.core.dropout.Dropout object at 0x7fe2326b7310>, because it is not built.\n"
     ]
    },
    {
     "name": "stderr",
     "output_type": "stream",
     "text": [
      "WARNING:tensorflow:Skipping full serialization of Keras layer <keras.layers.core.dropout.Dropout object at 0x7fe2326b7310>, because it is not built.\n",
      "WARNING:absl:Found untraced functions such as position_embeddings_layer_call_fn, position_embeddings_layer_call_and_return_conditional_losses, speaker_embeddings_layer_call_fn, speaker_embeddings_layer_call_and_return_conditional_losses, speaker_fc_layer_call_fn while saving (showing 5 of 515). These functions will not be directly callable after loading.\n"
     ]
    },
    {
     "name": "stdout",
     "output_type": "stream",
     "text": [
      "INFO:tensorflow:Assets written to: fastspeech2/assets\n"
     ]
    },
    {
     "name": "stderr",
     "output_type": "stream",
     "text": [
      "INFO:tensorflow:Assets written to: fastspeech2/assets\n"
     ]
    }
   ],
   "source": [
    "export_savedmodel(\"bookbot/lightspeech-mfa-en-v6\", save_path=\"fastspeech2/\")"
   ]
  },
  {
   "cell_type": "code",
   "execution_count": 15,
   "metadata": {},
   "outputs": [
    {
     "name": "stderr",
     "output_type": "stream",
     "text": [
      "/opt/miniconda3/envs/tensorflow/lib/python3.8/site-packages/huggingface_hub/file_download.py:594: FutureWarning: `cached_download` is the legacy way to download files from the HF hub, please consider upgrading to `hf_hub_download`\n",
      "  warnings.warn(\n"
     ]
    },
    {
     "name": "stdout",
     "output_type": "stream",
     "text": [
      "WARNING:tensorflow:Skipping full serialization of Keras layer <tensorflow_tts.models.mb_melgan.TFPQMF object at 0x7fe210b0f6a0>, because it is not built.\n"
     ]
    },
    {
     "name": "stderr",
     "output_type": "stream",
     "text": [
      "WARNING:tensorflow:Skipping full serialization of Keras layer <tensorflow_tts.models.mb_melgan.TFPQMF object at 0x7fe210b0f6a0>, because it is not built.\n",
      "WARNING:absl:Found untraced functions such as shortcut_layer_call_fn, shortcut_layer_call_and_return_conditional_losses, shortcut_layer_call_fn, shortcut_layer_call_and_return_conditional_losses, shortcut_layer_call_fn while saving (showing 5 of 360). These functions will not be directly callable after loading.\n"
     ]
    },
    {
     "name": "stdout",
     "output_type": "stream",
     "text": [
      "INFO:tensorflow:Assets written to: mbmelgan/assets\n"
     ]
    },
    {
     "name": "stderr",
     "output_type": "stream",
     "text": [
      "INFO:tensorflow:Assets written to: mbmelgan/assets\n"
     ]
    }
   ],
   "source": [
    "export_savedmodel(\"bookbot/mb-melgan-hifi-postnets-en-v13\", save_path=\"mbmelgan/\")"
   ]
  },
  {
   "cell_type": "code",
   "execution_count": null,
   "metadata": {},
   "outputs": [],
   "source": []
  }
 ],
 "metadata": {
  "kernelspec": {
   "display_name": "tensorflow",
   "language": "python",
   "name": "python3"
  },
  "language_info": {
   "codemirror_mode": {
    "name": "ipython",
    "version": 3
   },
   "file_extension": ".py",
   "mimetype": "text/x-python",
   "name": "python",
   "nbconvert_exporter": "python",
   "pygments_lexer": "ipython3",
   "version": "3.8.15"
  },
  "orig_nbformat": 4
 },
 "nbformat": 4,
 "nbformat_minor": 2
}
